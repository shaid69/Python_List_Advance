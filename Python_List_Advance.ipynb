{
 "cells": [
  {
   "cell_type": "code",
   "execution_count": 1,
   "metadata": {},
   "outputs": [
    {
     "name": "stdout",
     "output_type": "stream",
     "text": [
      "['banana', 'apple', 'cherry']\n"
     ]
    }
   ],
   "source": [
    "#List\n",
    "#orderd , mutable, allows duplicate elements\n",
    "\n",
    "mylist=[\"banana\",\"apple\",\"cherry\"]\n",
    "print(mylist)"
   ]
  },
  {
   "cell_type": "code",
   "execution_count": 2,
   "metadata": {},
   "outputs": [
    {
     "name": "stdout",
     "output_type": "stream",
     "text": [
      "[5, True, 1.0, 'shaid']\n"
     ]
    }
   ],
   "source": [
    "mylist=[5,True,1.00,\"shaid\"]\n",
    "print(mylist)"
   ]
  },
  {
   "cell_type": "code",
   "execution_count": 3,
   "metadata": {},
   "outputs": [
    {
     "name": "stdout",
     "output_type": "stream",
     "text": [
      "[5, True, 1.0, 'shaid', 'shaid']\n"
     ]
    }
   ],
   "source": [
    "mylist=[5,True,1.00,\"shaid\",\"shaid\"]\n",
    "print(mylist)"
   ]
  },
  {
   "cell_type": "code",
   "execution_count": 5,
   "metadata": {},
   "outputs": [
    {
     "name": "stdout",
     "output_type": "stream",
     "text": [
      "5\n",
      "True\n",
      "1.0\n",
      "shaid\n",
      "shaid\n"
     ]
    },
    {
     "ename": "IndexError",
     "evalue": "list index out of range",
     "output_type": "error",
     "traceback": [
      "\u001b[1;31m---------------------------------------------------------------------------\u001b[0m",
      "\u001b[1;31mIndexError\u001b[0m                                Traceback (most recent call last)",
      "Cell \u001b[1;32mIn[5], line 7\u001b[0m\n\u001b[0;32m      5\u001b[0m \u001b[39mprint\u001b[39m(mylist[\u001b[39m3\u001b[39m])\n\u001b[0;32m      6\u001b[0m \u001b[39mprint\u001b[39m(mylist[\u001b[39m4\u001b[39m])\n\u001b[1;32m----> 7\u001b[0m \u001b[39mprint\u001b[39m(mylist[\u001b[39m5\u001b[39;49m])\n",
      "\u001b[1;31mIndexError\u001b[0m: list index out of range"
     ]
    }
   ],
   "source": [
    "mylist=[5,True,1.00,\"shaid\",\"shaid\"]\n",
    "print(mylist[0])\n",
    "print(mylist[1])\n",
    "print(mylist[2])\n",
    "print(mylist[3])\n",
    "print(mylist[4])\n",
    "print(mylist[5])"
   ]
  },
  {
   "cell_type": "code",
   "execution_count": 6,
   "metadata": {},
   "outputs": [
    {
     "name": "stdout",
     "output_type": "stream",
     "text": [
      "shaid\n",
      "shaid\n",
      "1.0\n",
      "True\n",
      "5\n"
     ]
    }
   ],
   "source": [
    "mylist=[5,True,1.00,\"shaid\",\"shaid\"]\n",
    "print(mylist[-1])\n",
    "print(mylist[-2])\n",
    "print(mylist[-3])\n",
    "print(mylist[-4])\n",
    "print(mylist[-5])"
   ]
  },
  {
   "cell_type": "code",
   "execution_count": 7,
   "metadata": {},
   "outputs": [
    {
     "name": "stdout",
     "output_type": "stream",
     "text": [
      "5\n",
      "True\n",
      "1.0\n",
      "shaid\n",
      "shaid\n"
     ]
    }
   ],
   "source": [
    "mylist=[5,True,1.00,\"shaid\",\"shaid\"]\n",
    "for i in mylist:\n",
    "    print(i)"
   ]
  },
  {
   "cell_type": "code",
   "execution_count": 8,
   "metadata": {},
   "outputs": [
    {
     "name": "stdout",
     "output_type": "stream",
     "text": [
      "yes\n"
     ]
    }
   ],
   "source": [
    "mylist=[5,True,1.00,\"shaid\",\"shaid\"]\n",
    "\n",
    "if \"shaid\" in mylist:\n",
    "    print(\"yes\")\n",
    "else:\n",
    "    print(\"no\")    "
   ]
  },
  {
   "cell_type": "code",
   "execution_count": 9,
   "metadata": {},
   "outputs": [
    {
     "name": "stdout",
     "output_type": "stream",
     "text": [
      "no\n"
     ]
    }
   ],
   "source": [
    "mylist=[5,True,1.00,\"shaid\",\"shaid\"]\n",
    "\n",
    "if \"ali\" in mylist:\n",
    "    print(\"yes\")\n",
    "else:\n",
    "    print(\"no\")    "
   ]
  },
  {
   "cell_type": "code",
   "execution_count": 11,
   "metadata": {},
   "outputs": [
    {
     "name": "stdout",
     "output_type": "stream",
     "text": [
      "5\n"
     ]
    }
   ],
   "source": [
    "mylist=[5,True,1.00,\"shaid\",\"shaid\"]\n",
    "print(len(mylist))"
   ]
  },
  {
   "cell_type": "code",
   "execution_count": 12,
   "metadata": {},
   "outputs": [
    {
     "name": "stdout",
     "output_type": "stream",
     "text": [
      "[5, True, 1.0, 'shaid', 'shaid', 'ali']\n"
     ]
    }
   ],
   "source": [
    "mylist=[5,True,1.00,\"shaid\",\"shaid\"]\n",
    "mylist.append(\"ali\")\n",
    "print(mylist)"
   ]
  },
  {
   "cell_type": "code",
   "execution_count": 13,
   "metadata": {},
   "outputs": [
    {
     "name": "stdout",
     "output_type": "stream",
     "text": [
      "['sunny', 5, True, 1.0, 'shaid', 'shaid']\n"
     ]
    }
   ],
   "source": [
    "mylist=[5,True,1.00,\"shaid\",\"shaid\"]\n",
    "mylist.insert(0,\"sunny\")\n",
    "print(mylist)"
   ]
  },
  {
   "cell_type": "code",
   "execution_count": 17,
   "metadata": {},
   "outputs": [
    {
     "name": "stdout",
     "output_type": "stream",
     "text": [
      "shaid\n",
      "[5, True, 1.0, 'shaid']\n"
     ]
    }
   ],
   "source": [
    "mylist=[5,True,1.00,\"shaid\",\"shaid\"]\n",
    "print(mylist.pop())\n",
    "print(mylist)"
   ]
  },
  {
   "cell_type": "code",
   "execution_count": 16,
   "metadata": {},
   "outputs": [
    {
     "name": "stdout",
     "output_type": "stream",
     "text": [
      "[True, 1.0, 'shaid', 'shaid']\n"
     ]
    }
   ],
   "source": [
    "mylist=[5,True,1.00,\"shaid\",\"shaid\"]\n",
    "mylist.pop(0)\n",
    "print(mylist)"
   ]
  },
  {
   "cell_type": "code",
   "execution_count": 19,
   "metadata": {},
   "outputs": [
    {
     "name": "stdout",
     "output_type": "stream",
     "text": [
      "[5, 1.0, 'shaid', 'shaid']\n",
      "None\n"
     ]
    }
   ],
   "source": [
    "mylist=[5,True,1.00,\"shaid\",\"shaid\"]\n",
    "x=mylist.remove(1.00)\n",
    "print(mylist)\n"
   ]
  },
  {
   "cell_type": "code",
   "execution_count": 20,
   "metadata": {},
   "outputs": [
    {
     "name": "stdout",
     "output_type": "stream",
     "text": [
      "[]\n"
     ]
    }
   ],
   "source": [
    "mylist=[5,True,1.00,\"shaid\",\"shaid\"]\n",
    "mylist.clear()\n",
    "print(mylist)"
   ]
  },
  {
   "cell_type": "code",
   "execution_count": 21,
   "metadata": {},
   "outputs": [
    {
     "name": "stdout",
     "output_type": "stream",
     "text": [
      "['shaid', 'shaid', 1.0, True, 5]\n"
     ]
    }
   ],
   "source": [
    "mylist=[5,True,1.00,\"shaid\",\"shaid\"]\n",
    "mylist.reverse()\n",
    "print(mylist)"
   ]
  },
  {
   "cell_type": "code",
   "execution_count": 22,
   "metadata": {},
   "outputs": [
    {
     "name": "stdout",
     "output_type": "stream",
     "text": [
      "[1, 4, 5, 6, 6, 8, 21, 34, 498]\n"
     ]
    }
   ],
   "source": [
    "mylist=[5,6,1,34,8,21,6,498,4]\n",
    "mylist.sort()\n",
    "print(mylist)"
   ]
  },
  {
   "cell_type": "code",
   "execution_count": 23,
   "metadata": {},
   "outputs": [
    {
     "name": "stdout",
     "output_type": "stream",
     "text": [
      "[498, 34, 21, 8, 6, 6, 5, 4, 1]\n"
     ]
    }
   ],
   "source": [
    "mylist=[5,6,1,34,8,21,6,498,4]\n",
    "mylist.sort(reverse=True)\n",
    "print(mylist)"
   ]
  },
  {
   "cell_type": "code",
   "execution_count": 24,
   "metadata": {},
   "outputs": [
    {
     "name": "stdout",
     "output_type": "stream",
     "text": [
      "[5, 5, 5, 5, 5, 5, 5, 5, 5, 5]\n"
     ]
    }
   ],
   "source": [
    "mylist=[5]*10\n",
    "print(mylist)"
   ]
  },
  {
   "cell_type": "code",
   "execution_count": 25,
   "metadata": {},
   "outputs": [
    {
     "name": "stdout",
     "output_type": "stream",
     "text": [
      "[5, 6, 1, 34, 8, 21, 6, 498, 4, 1, 2, 3, 4, 56]\n"
     ]
    }
   ],
   "source": [
    "mylist=[5,6,1,34,8,21,6,498,4]\n",
    "mylist1=[1,2,3,4,56]\n",
    "x=mylist+mylist1\n",
    "print(x)\n"
   ]
  },
  {
   "cell_type": "code",
   "execution_count": 26,
   "metadata": {},
   "outputs": [
    {
     "name": "stdout",
     "output_type": "stream",
     "text": [
      "[34, 8]\n"
     ]
    }
   ],
   "source": [
    "mylist=[5,6,1,34,8,21,6,498,4]\n",
    "a=mylist[3:5]\n",
    "print(a)"
   ]
  },
  {
   "cell_type": "code",
   "execution_count": 27,
   "metadata": {},
   "outputs": [
    {
     "name": "stdout",
     "output_type": "stream",
     "text": [
      "[34, 8, 21, 6, 498, 4]\n"
     ]
    }
   ],
   "source": [
    "mylist=[5,6,1,34,8,21,6,498,4]\n",
    "a=mylist[3:]\n",
    "print(a)"
   ]
  },
  {
   "cell_type": "code",
   "execution_count": 28,
   "metadata": {},
   "outputs": [
    {
     "name": "stdout",
     "output_type": "stream",
     "text": [
      "[5, 6, 1, 34, 8]\n"
     ]
    }
   ],
   "source": [
    "mylist=[5,6,1,34,8,21,6,498,4]\n",
    "a=mylist[:5]\n",
    "print(a)"
   ]
  },
  {
   "cell_type": "code",
   "execution_count": 29,
   "metadata": {},
   "outputs": [
    {
     "name": "stdout",
     "output_type": "stream",
     "text": [
      "[5, 6, 1, 34, 8, 21, 6, 498, 4]\n"
     ]
    }
   ],
   "source": [
    "mylist=[5,6,1,34,8,21,6,498,4]\n",
    "a=mylist[::]\n",
    "print(a)"
   ]
  },
  {
   "cell_type": "code",
   "execution_count": 30,
   "metadata": {},
   "outputs": [
    {
     "name": "stdout",
     "output_type": "stream",
     "text": [
      "[4, 498, 6, 21, 8, 34, 1, 6, 5]\n"
     ]
    }
   ],
   "source": [
    "mylist=[5,6,1,34,8,21,6,498,4]\n",
    "a=mylist[::-1]\n",
    "print(a)"
   ]
  },
  {
   "cell_type": "code",
   "execution_count": 31,
   "metadata": {},
   "outputs": [
    {
     "name": "stdout",
     "output_type": "stream",
     "text": [
      "[5, 1, 8, 6, 4]\n"
     ]
    }
   ],
   "source": [
    "mylist=[5,6,1,34,8,21,6,498,4]\n",
    "a=mylist[::2]\n",
    "print(a)"
   ]
  },
  {
   "cell_type": "code",
   "execution_count": 32,
   "metadata": {},
   "outputs": [
    {
     "name": "stdout",
     "output_type": "stream",
     "text": [
      "[5, 6, 1, 34, 8, 21, 6, 498, 4]\n"
     ]
    }
   ],
   "source": [
    "mylist=[5,6,1,34,8,21,6,498,4]\n",
    "copy=mylist\n",
    "print(copy)"
   ]
  },
  {
   "cell_type": "code",
   "execution_count": null,
   "metadata": {},
   "outputs": [],
   "source": []
  }
 ],
 "metadata": {
  "kernelspec": {
   "display_name": "Python 3",
   "language": "python",
   "name": "python3"
  },
  "language_info": {
   "codemirror_mode": {
    "name": "ipython",
    "version": 3
   },
   "file_extension": ".py",
   "mimetype": "text/x-python",
   "name": "python",
   "nbconvert_exporter": "python",
   "pygments_lexer": "ipython3",
   "version": "3.11.3"
  },
  "orig_nbformat": 4
 },
 "nbformat": 4,
 "nbformat_minor": 2
}
